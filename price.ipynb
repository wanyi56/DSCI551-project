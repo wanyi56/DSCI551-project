{
 "cells": [
  {
   "cell_type": "code",
   "execution_count": 87,
   "id": "dc4e2796",
   "metadata": {},
   "outputs": [],
   "source": [
    "from selenium import webdriver\n",
    "import chromedriver_binary\n",
    "from bs4 import BeautifulSoup\n",
    "import pandas as pd\n",
    "import sys\n"
   ]
  },
  {
   "cell_type": "code",
   "execution_count": 88,
   "id": "af48f10b",
   "metadata": {},
   "outputs": [],
   "source": [
    "opt = webdriver.ChromeOptions()\n",
    "opt.add_argument('--headless')\n",
    "opt.add_argument('--ignore-certificate-errors')\n",
    "opt.add_argument('--allow-running-insecure-content')\n",
    "user_agent = 'Mozilla/5.0 (X11; Linux x86_64) AppleWebKit/537.36 (KHTML, like Gecko) Chrome/60.0.3112.50 Safari/537.36'\n",
    "opt.add_argument(f'user-agent={user_agent}')"
   ]
  },
  {
   "cell_type": "code",
   "execution_count": 89,
   "id": "e41f2678",
   "metadata": {},
   "outputs": [],
   "source": [
    "\n",
    "def chewy(k,out_queue):\n",
    "    \n",
    "    print(1)\n",
    "    # chewy\n",
    "    driver_chewy = webdriver.Chrome(options=opt)\n",
    "    # chewy\n",
    "    \n",
    "    url_chewy = \"https://www.chewy.com/s?query=cat%20can%20\"+k+\"&nav-submit-button=\"\n",
    "    driver_chewy.get(url_chewy)\n",
    "    website_chewy = []\n",
    "    prices_chewy = []\n",
    "    names_chewy = []\n",
    "\n",
    "    content_chewy = driver_chewy.page_source\n",
    "    soup_chewy = BeautifulSoup(content_chewy,\"html.parser\")\n",
    "    n = soup_chewy.findAll('div',attrs={'class':'ProductListing_kibProductCard__3KgKt js-tracked-product kib-product-card'})\n",
    "    if len(n) != 0:\n",
    "        for a in n[:min(5,len(n))-1]:\n",
    "            price=a['data-price']\n",
    "            name=a['data-name']\n",
    "        \n",
    "            website_chewy.append('chewy')\n",
    "            prices_chewy.append(float(price))\n",
    "            names_chewy.append(name.strip()) \n",
    "\n",
    "    else:\n",
    "        website_chewy = 'chewy'\n",
    "        prices_chewy = 'no result'\n",
    "        names_chewy = 'no result'\n",
    "    \n",
    "    \n",
    "    d = {'Name':names_chewy,'Price':prices_chewy,'Sold by':website_chewy}\n",
    "    df = pd.DataFrame(d)\n",
    "\n",
    "    out_queue.put([df,url_chewy])\n",
    "    \n",
    "    \n",
    "\n",
    "    "
   ]
  },
  {
   "cell_type": "code",
   "execution_count": 97,
   "id": "ac210c53",
   "metadata": {},
   "outputs": [],
   "source": [
    "\n",
    "def petsmart(k,out_queue):    #petsmart\n",
    "    \n",
    "    print(2)\n",
    "    driver_petsmart = webdriver.Chrome(options=opt)\n",
    "    url_petsmart = \"https://www.petsmart.com/search/?q=cat%20wet%20food%20\"+k+\"&ps=undefined\"\n",
    "    driver_petsmart.get(url_petsmart)\n",
    "    \n",
    "    website_petsmart = []\n",
    "    prices_petsmart = []\n",
    "    names_petsmart = []\n",
    "\n",
    "    content_petsmart = driver_petsmart.page_source\n",
    "    soup_petsmart = BeautifulSoup(content_petsmart,\"html.parser\")\n",
    "    n = soup_petsmart.findAll('li',attrs={'class':'grid-tile gtm-grid-tile col-md-4 col-sm-12'})\n",
    "    if len(n) != 0:\n",
    "        for a in n[:min(5,len(n))-1]:\n",
    "            price=a.find('span', attrs={'class':'price-regular'})\n",
    "            if not price: \n",
    "                price=a.find('span', attrs={'class':'price-sales'})\n",
    "            name=a.find('div', attrs={'class':'product-name'})\n",
    "        \n",
    "            website_petsmart.append('petsmart')\n",
    "            prices_petsmart.append(float(price[\"data-gtm-price\"]))\n",
    "            names_petsmart.append(name.text.strip()) \n",
    "\n",
    "    else:\n",
    "        website_petsmart = 'petsmart'\n",
    "        prices_petsmart = 'no result'\n",
    "        names_petsmart = 'no result'\n",
    "\n",
    "    \n",
    "    d = {'Name':names_petsmart,'Price':prices_petsmart,'Sold by':website_petsmart}\n",
    "    df = pd.DataFrame(d)\n",
    "\n",
    "    out_queue.put([df,url_petsmart])\n",
    "    "
   ]
  },
  {
   "cell_type": "code",
   "execution_count": 98,
   "id": "e1726c39",
   "metadata": {},
   "outputs": [],
   "source": [
    "\n",
    "def petco(k,out_queue):    #petco\n",
    "    \n",
    "    print(3)\n",
    "    driver_petco = webdriver.Chrome(options=opt)\n",
    "\n",
    "\n",
    "\n",
    "    url_petco = \"https://www.petco.com/shop/SearchDisplay?categoryId=&storeId=10151&catalogId=10051&langId=-1&sType=SimpleSearch&resultCatEntryType=2&showResultsPage=true&searchSource=Q&pageView=&beginIndex=0&pageSize=48&fromPageValue=search&searchKeyword=&searchTerm=\"+k\n",
    "    driver_petco.get(url_petco)\n",
    "\n",
    "    website_petco = []\n",
    "    prices_petco = []\n",
    "    names_petco = []\n",
    "\n",
    "    content_petco = driver_petco.page_source\n",
    "    soup_petco = BeautifulSoup(content_petco,\"html.parser\")\n",
    "    n = soup_petco.findAll('div',attrs={'class':'product-info'})\n",
    "    if len(n) != 0:\n",
    "        for a in n[:min(5,len(n))-1]:\n",
    "            price=a.find('span', attrs={'class':'product-price-promo'})\n",
    "            name=a.find('div', attrs={'class':'product-name'})\n",
    "            website_petco.append('Petco')\n",
    "            prices_petco.append(price.text.strip())\n",
    "            names_petco.append(name.text.strip()) \n",
    "        \n",
    "        names_petco = [a.replace(\"\\n\", \" \") for a in names_petco]\n",
    "    if len(n) == 0:\n",
    "        website_petco = ['petco']\n",
    "        prices_petco = ['no result']\n",
    "        names_petco = ['no result']\n",
    "\n",
    "    \n",
    "\n",
    "\n",
    "    \n",
    "    \n",
    "    d = {'Name':names_petco,'Price':prices_petco,'Sold by':website_petco}\n",
    "    df = pd.DataFrame(d)\n",
    "\n",
    "    out_queue.put([df,url_petco])\n",
    "    "
   ]
  },
  {
   "cell_type": "code",
   "execution_count": 109,
   "id": "005ba177",
   "metadata": {},
   "outputs": [],
   "source": [
    "from threading import Thread\n",
    "import queue\n",
    "\n",
    "\n",
    "def search_price(k):\n",
    "    k = k.replace(' ','%20')\n",
    "    my_queue1 = queue.Queue()\n",
    "    my_queue2 = queue.Queue()\n",
    "    my_queue3 = queue.Queue()\n",
    "    \n",
    "    ret_1 = Thread(target = petsmart,args=(k,my_queue1))\n",
    "    ret_2 = Thread(target = chewy,args=(k,my_queue2))\n",
    "    ret_3 = Thread(target = petco,args=(k,my_queue3))\n",
    "    ret_1.start()\n",
    "    ret_2.start()\n",
    "    ret_3.start()\n",
    "    \n",
    "    ret1 = my_queue1.get()\n",
    "    ret2 = my_queue2.get()\n",
    "    ret3 = my_queue3.get()\n",
    "    \n",
    "    ret_1.join()\n",
    "    ret_2.join()\n",
    "    ret_3.join()\n",
    "    \n",
    "    result = [pd.concat([ret1[0],ret2[0],ret3[0]]),ret1[1],ret2[1],ret3[1]]\n",
    "    return result\n",
    "        \n"
   ]
  },
  {
   "cell_type": "code",
   "execution_count": 110,
   "id": "a21687bb",
   "metadata": {},
   "outputs": [
    {
     "name": "stdout",
     "output_type": "stream",
     "text": [
      "2\n",
      "1\n",
      "3\n"
     ]
    },
    {
     "data": {
      "text/plain": [
       "[                                                Name            Price Sold by\n",
       " 0  Blue Buffalo Wilderness Wild Delights Chicken ...             30.0   chewy\n",
       " 1  Blue Buffalo Wilderness Duck Grain-Free Canned...             30.0   chewy\n",
       " 2  Blue Buffalo Wilderness Wild Delights Minced C...            42.89   chewy\n",
       " 3  Blue Buffalo Tastefuls Tuna Entrée in Gravy Fl...            26.26   chewy\n",
       " 0  Blue Buffalo Wilderness Natural Adult High Pro...  $19.98 - $79.99   Petco\n",
       " 1  Blue Buffalo Blue Life Protection Formula Adul...  $16.98 - $62.98   Petco\n",
       " 2  Blue Buffalo Wilderness Natural Adult High Pro...  $13.99 - $39.98   Petco\n",
       " 3  Blue Buffalo Wilderness Natural Adult High Pro...  $20.98 - $81.99   Petco,\n",
       " 'https://www.petsmart.com/search/?q=cat%20wet%20food%20blue&ps=undefined',\n",
       " 'https://www.chewy.com/s?query=cat%20can%20blue&nav-submit-button=',\n",
       " 'https://www.petco.com/shop/SearchDisplay?categoryId=&storeId=10151&catalogId=10051&langId=-1&sType=SimpleSearch&resultCatEntryType=2&showResultsPage=true&searchSource=Q&pageView=&beginIndex=0&pageSize=48&fromPageValue=search&searchKeyword=&searchTerm=blue']"
      ]
     },
     "execution_count": 110,
     "metadata": {},
     "output_type": "execute_result"
    }
   ],
   "source": [
    "search_price('blue')\n"
   ]
  },
  {
   "cell_type": "code",
   "execution_count": null,
   "id": "ca55113d",
   "metadata": {},
   "outputs": [],
   "source": [
    "\n"
   ]
  },
  {
   "cell_type": "code",
   "execution_count": null,
   "id": "5138049b",
   "metadata": {},
   "outputs": [],
   "source": [
    "\n",
    "\n"
   ]
  },
  {
   "cell_type": "code",
   "execution_count": 41,
   "id": "9aa926ad",
   "metadata": {},
   "outputs": [],
   "source": []
  },
  {
   "cell_type": "code",
   "execution_count": null,
   "id": "f10c99ad",
   "metadata": {},
   "outputs": [],
   "source": []
  },
  {
   "cell_type": "code",
   "execution_count": null,
   "id": "3f9e724b",
   "metadata": {},
   "outputs": [],
   "source": []
  }
 ],
 "metadata": {
  "kernelspec": {
   "display_name": "Python 3 (ipykernel)",
   "language": "python",
   "name": "python3"
  },
  "language_info": {
   "codemirror_mode": {
    "name": "ipython",
    "version": 3
   },
   "file_extension": ".py",
   "mimetype": "text/x-python",
   "name": "python",
   "nbconvert_exporter": "python",
   "pygments_lexer": "ipython3",
   "version": "3.8.12"
  }
 },
 "nbformat": 4,
 "nbformat_minor": 5
}
